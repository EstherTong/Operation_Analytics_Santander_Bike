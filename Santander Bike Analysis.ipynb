{
  "nbformat": 4,
  "nbformat_minor": 0,
  "metadata": {
    "colab": {
      "provenance": [],
      "collapsed_sections": []
    },
    "kernelspec": {
      "name": "python3",
      "display_name": "Python 3"
    },
    "language_info": {
      "name": "python"
    }
  },
  "cells": [
    {
      "cell_type": "code",
      "execution_count": null,
      "metadata": {
        "id": "Mkuyvt8r3_CU"
      },
      "outputs": [],
      "source": [
        "from google.colab import drive\n",
        "drive.mount('/gdrive')\n",
        "%cd /gdrive"
      ]
    },
    {
      "cell_type": "code",
      "source": [
        "!pip install SimPy\n",
        "!pip install --upgrade --user ortools\n",
        "import simpy \n",
        "import pandas as pd\n",
        "import numpy as np\n",
        "import random\n",
        "import matplotlib.pyplot as plt"
      ],
      "metadata": {
        "id": "K89l-TH32eJZ"
      },
      "execution_count": null,
      "outputs": []
    },
    {
      "cell_type": "code",
      "source": [
        "import pandas as pd\n",
        "ride_data_group = pd.read_csv(\"My Drive/OPERATION/ride_data_groupAssignment.csv\")\n",
        "station_info = pd.read_csv(\"My Drive/OPERATION/stationInfo_hydePark.csv\")\n",
        "van_driving = pd.read_csv(\"My Drive/OPERATION/Van_drivingTime.csv\")"
      ],
      "metadata": {
        "id": "QqSWaXJj2cTc"
      },
      "execution_count": null,
      "outputs": []
    },
    {
      "cell_type": "markdown",
      "source": [
        "Question (a)"
      ],
      "metadata": {
        "id": "QaofETNf2hef"
      }
    },
    {
      "cell_type": "code",
      "source": [
        "#Generate a \"pair\" column \n",
        "ride_data_group['pair'] = ride_data_group['StartStation']+ ['; '] + ride_data_group['EndStation']\n",
        "ride_data_group"
      ],
      "metadata": {
        "id": "9-aHUT6B2i4f"
      },
      "execution_count": null,
      "outputs": []
    },
    {
      "cell_type": "code",
      "source": [
        "#changing the date time format, and add a \"start_hour\" and \"end_hour\" column to identify the hour that the bike is being used\n",
        "ride_data_group[\"StartTime\"] = pd.to_datetime(ride_data_group[\"StartTime\"], format=\"%Y%m%d %H:%M:%S\")\n",
        "ride_data_group[\"EndTime\"] = pd.to_datetime(ride_data_group[\"EndTime\"], format=\"%Y%m%d %H:%M:%S\")\n",
        "ride_data_group['start_hour'] = ride_data_group['StartTime'].dt.hour\n",
        "ride_data_group['end_hour'] = ride_data_group['EndTime'].dt.hour"
      ],
      "metadata": {
        "id": "LIOhrmAk20jz"
      },
      "execution_count": null,
      "outputs": []
    },
    {
      "cell_type": "code",
      "source": [
        "#Start_time count\n",
        "df1 = ride_data_group.groupby(['pair','start_hour']).size().reset_index(name='counts')\n",
        "df1.info()"
      ],
      "metadata": {
        "id": "1QWNyz_e3QkL"
      },
      "execution_count": null,
      "outputs": []
    },
    {
      "cell_type": "code",
      "source": [
        "df1[['start_station', 'end_station']] = df1['pair'].str.split('; ', 1, expand=True)"
      ],
      "metadata": {
        "id": "QFhHCqUy3Vi8"
      },
      "execution_count": null,
      "outputs": []
    },
    {
      "cell_type": "code",
      "source": [
        "df1.rename(\n",
        "    columns={\"counts\":\"demand\"}\n",
        "          ,inplace=True)"
      ],
      "metadata": {
        "id": "BCqzuV7L3Xd-"
      },
      "execution_count": null,
      "outputs": []
    },
    {
      "cell_type": "code",
      "source": [
        "df1[\"average_demand\"] = df1[\"demand\"]/15"
      ],
      "metadata": {
        "id": "avitUowA3aUi"
      },
      "execution_count": null,
      "outputs": []
    },
    {
      "cell_type": "code",
      "source": [
        "df2 = df1.groupby(['start_station','start_hour']).agg({'demand':'sum'})"
      ],
      "metadata": {
        "id": "mzkgm-lZ3cZc"
      },
      "execution_count": null,
      "outputs": []
    },
    {
      "cell_type": "code",
      "source": [
        "df3 = pd.merge(df1, df2, how = 'outer', left_on = ['start_station', 'start_hour'], right_on =['start_station', 'start_hour'])"
      ],
      "metadata": {
        "id": "ozGKOCdUWAbt"
      },
      "execution_count": null,
      "outputs": []
    },
    {
      "cell_type": "code",
      "source": [
        "df3[\"Probability\"] = df3[\"demand_x\"]/df3[\"demand_y\"]"
      ],
      "metadata": {
        "id": "LLv2An0pWzQ6"
      },
      "execution_count": null,
      "outputs": []
    },
    {
      "cell_type": "code",
      "source": [
        "df3 = df3.rename(columns={\"demand_x\": \"Demand_for_the_period\", \"demand_y\": \"Demand_per_startstation_at_certain_hr\"})"
      ],
      "metadata": {
        "id": "kesOj44EXUps"
      },
      "execution_count": null,
      "outputs": []
    },
    {
      "cell_type": "code",
      "source": [
        "final_df = df3[[\"start_station\", \"end_station\", \"pair\", \"start_hour\", \"Demand_for_the_period\", \"Demand_per_startstation_at_certain_hr\", \"Probability\",\"average_demand\" ]]"
      ],
      "metadata": {
        "id": "0Vo-uOur4YLW"
      },
      "execution_count": null,
      "outputs": []
    },
    {
      "cell_type": "code",
      "source": [
        "final_df.head()"
      ],
      "metadata": {
        "id": "-0tmWcRI4fek"
      },
      "execution_count": null,
      "outputs": []
    },
    {
      "cell_type": "code",
      "source": [
        "HPCorner_8am = final_df[(final_df[\"start_station\"]=='Hyde Park Corner, Hyde Park') & (final_df[\"start_hour\"]==8)]"
      ],
      "metadata": {
        "id": "4rijt6gdd34t"
      },
      "execution_count": null,
      "outputs": []
    },
    {
      "cell_type": "code",
      "source": [
        "HPCorner_8am"
      ],
      "metadata": {
        "id": "pSYRv7Ytekyc"
      },
      "execution_count": null,
      "outputs": []
    },
    {
      "cell_type": "markdown",
      "source": [
        "## Question (b)"
      ],
      "metadata": {
        "id": "uZ9UPWXuTpuZ"
      }
    },
    {
      "cell_type": "markdown",
      "source": [
        "Morning peak hours calculation"
      ],
      "metadata": {
        "id": "zq3OmwvAx0q5"
      }
    },
    {
      "cell_type": "code",
      "source": [
        "#convert string to interger for hour_of_the_day\n",
        "final_df['start_hour'] = final_df['start_hour'].astype(int)"
      ],
      "metadata": {
        "id": "QkseAD7JcFyr"
      },
      "execution_count": null,
      "outputs": []
    },
    {
      "cell_type": "code",
      "source": [
        "morning_rush = final_df[(final_df['start_hour'].between(6,10, inclusive = True))]\n",
        "afternoon_rush = final_df[(final_df['start_hour'].between(15,19, inclusive = True))]"
      ],
      "metadata": {
        "id": "i1D61du8cF02"
      },
      "execution_count": null,
      "outputs": []
    },
    {
      "cell_type": "code",
      "source": [
        "morning_rush.info()\n",
        "afternoon_rush.info()"
      ],
      "metadata": {
        "id": "9VMO9HkPcF3W"
      },
      "execution_count": null,
      "outputs": []
    },
    {
      "cell_type": "code",
      "source": [
        "morning_outflow = morning_rush.groupby(['start_station'], as_index=False)['Demand_for_the_period'].sum()\n",
        "morning_outflow = morning_outflow.rename(columns={'Demand_for_the_period': 'outflow_demand'})\n",
        "\n",
        "afternoon_outflow = afternoon_rush.groupby(['start_station'], as_index=False)['Demand_for_the_period'].sum()\n",
        "afternoon_outflow = afternoon_outflow.rename(columns={'Demand_for_the_period': 'outflow_demand'})"
      ],
      "metadata": {
        "id": "hw41bzJ2cF6D"
      },
      "execution_count": null,
      "outputs": []
    },
    {
      "cell_type": "code",
      "source": [
        "morning_outflow.head()\n",
        "afternoon_outflow.head()"
      ],
      "metadata": {
        "id": "tOzdi28Enwde"
      },
      "execution_count": null,
      "outputs": []
    },
    {
      "cell_type": "code",
      "source": [
        "morning_inflow = morning_rush.groupby(['end_station'], as_index=False)['Demand_for_the_period'].sum()\n",
        "morning_inflow = morning_inflow.rename(columns={'demand_rate': 'inflow_supply'})\n",
        "\n",
        "afternoon_inflow = afternoon_rush.groupby(['end_station'], as_index=False)['Demand_for_the_period'].sum()\n",
        "afternoon_inflow = afternoon_inflow.rename(columns={'demand_rate': 'inflow_supply'})"
      ],
      "metadata": {
        "id": "4_RycaN6cF_c"
      },
      "execution_count": null,
      "outputs": []
    },
    {
      "cell_type": "code",
      "source": [
        "morning_rush_merged = pd.merge(morning_outflow, morning_inflow, how=\"outer\", left_on=['start_station'], right_on = ['end_station'])\n",
        "\n",
        "afternoon_rush_merged = pd.merge(afternoon_outflow, afternoon_inflow, how=\"outer\", left_on=['start_station'], right_on = ['end_station'])"
      ],
      "metadata": {
        "id": "_zc08L1QcGer"
      },
      "execution_count": null,
      "outputs": []
    },
    {
      "cell_type": "code",
      "source": [
        "morning_rush_merged.head(10)\n",
        "afternoon_rush_merged.head(10)"
      ],
      "metadata": {
        "id": "XAZsfz8_o7b_"
      },
      "execution_count": null,
      "outputs": []
    },
    {
      "cell_type": "code",
      "source": [
        "#check to ensure the merge was done correctly\n",
        "morning_rush_merged['start_station']==morning_rush_merged['end_station']\n",
        "\n",
        "afternoon_rush_merged['start_station']==afternoon_rush_merged['end_station']"
      ],
      "metadata": {
        "id": "Jl54pxx3o7e0"
      },
      "execution_count": null,
      "outputs": []
    },
    {
      "cell_type": "code",
      "source": [
        "morning_rush_merged = morning_rush_merged.rename(columns={'start_station': 'STATION'})\n",
        "morning_rush_merged = morning_rush_merged.drop(columns=['end_station'])\n",
        "\n",
        "afternoon_rush_merged = afternoon_rush_merged.rename(columns={'start_station': 'STATION'})\n",
        "afternoon_rush_merged = afternoon_rush_merged.drop(columns=['end_station'])"
      ],
      "metadata": {
        "id": "NMFscGCyo7hr"
      },
      "execution_count": null,
      "outputs": []
    },
    {
      "cell_type": "code",
      "source": [
        "morning_rush_merged.info()\n",
        "\n",
        "afternoon_rush_merged.info()"
      ],
      "metadata": {
        "id": "eh4zqdDKo7j6"
      },
      "execution_count": null,
      "outputs": []
    },
    {
      "cell_type": "code",
      "source": [
        "morning_rush_merged[\"Imbalance_rate\"] = abs(morning_rush_merged[\"outflow_demand\"] - morning_rush_merged[\"Demand_for_the_period\"])\n",
        "\n",
        "afternoon_rush_merged[\"Imbalance_rate\"] = abs(afternoon_rush_merged[\"outflow_demand\"] - afternoon_rush_merged[\"Demand_for_the_period\"])"
      ],
      "metadata": {
        "id": "P828yDB-g4Br"
      },
      "execution_count": null,
      "outputs": []
    },
    {
      "cell_type": "code",
      "source": [
        "morning_rush_merged[\"Imbalance_rate_daily\"] = abs(morning_rush_merged[\"outflow_demand\"] - morning_rush_merged[\"Demand_for_the_period\"])/15\n",
        "\n",
        "afternoon_rush_merged[\"Imbalance_rate_daily\"] = abs(afternoon_rush_merged[\"outflow_demand\"] - afternoon_rush_merged[\"Demand_for_the_period\"])/15"
      ],
      "metadata": {
        "id": "xVvAMlB6jqvl"
      },
      "execution_count": null,
      "outputs": []
    },
    {
      "cell_type": "code",
      "source": [
        "morning_rush_merged.sort_values(by ='Imbalance_rate', ascending = False)\n"
      ],
      "metadata": {
        "id": "8HeAn2aYvbZt"
      },
      "execution_count": null,
      "outputs": []
    },
    {
      "cell_type": "code",
      "source": [
        "afternoon_rush_merged.sort_values(by ='Imbalance_rate', ascending = False)"
      ],
      "metadata": {
        "id": "ZDayA5EBlzfn"
      },
      "execution_count": null,
      "outputs": []
    },
    {
      "cell_type": "code",
      "source": [
        "morning = morning_rush_merged.drop([4])"
      ],
      "metadata": {
        "id": "DN5xsBjcZhkM"
      },
      "execution_count": null,
      "outputs": []
    },
    {
      "cell_type": "code",
      "source": [
        "morning.sort_values(by ='Imbalance_rate', ascending = False)"
      ],
      "metadata": {
        "id": "B0858xLLkDvc"
      },
      "execution_count": null,
      "outputs": []
    },
    {
      "cell_type": "markdown",
      "source": [
        "Question (c)"
      ],
      "metadata": {
        "id": "R_0J2_op5kqz"
      }
    },
    {
      "cell_type": "code",
      "source": [
        "ride_data_group.head()"
      ],
      "metadata": {
        "id": "5KZgiXVo5mmg"
      },
      "execution_count": null,
      "outputs": []
    },
    {
      "cell_type": "code",
      "source": [
        "time_spent_df = ride_data_group[['pair','Duration']]\n",
        "time_spent_df.info()"
      ],
      "metadata": {
        "id": "KwxoKEls5rlw"
      },
      "execution_count": null,
      "outputs": []
    },
    {
      "cell_type": "code",
      "source": [
        "time_spent_mean = time_spent_df.groupby(['pair'], as_index=False)['Duration'].mean()\n",
        "time_spent_mean "
      ],
      "metadata": {
        "id": "4iwF0uT45uDD"
      },
      "execution_count": null,
      "outputs": []
    },
    {
      "cell_type": "code",
      "source": [
        "time_spent_sd = time_spent_df.groupby(['pair'], as_index=False)['Duration'].std()\n",
        "time_spent_sd"
      ],
      "metadata": {
        "id": "fylbXCL15wmG"
      },
      "execution_count": null,
      "outputs": []
    },
    {
      "cell_type": "code",
      "source": [
        "time_spend_final = pd.merge(time_spent_mean , time_spent_sd, how=\"outer\", left_on=['pair'], right_on = ['pair'])"
      ],
      "metadata": {
        "id": "Tm532RMY5yxU"
      },
      "execution_count": null,
      "outputs": []
    },
    {
      "cell_type": "code",
      "source": [
        "time_spend_final.head()"
      ],
      "metadata": {
        "id": "8mOiYzYl5zpL"
      },
      "execution_count": null,
      "outputs": []
    },
    {
      "cell_type": "code",
      "source": [
        "time_spend_final = time_spend_final.rename(columns={'Duration_x': 'Mean_(sec)', 'Duration_y': 'Standard_Deviation_(sec)'})"
      ],
      "metadata": {
        "id": "BsIzUBLQeQXA"
      },
      "execution_count": null,
      "outputs": []
    },
    {
      "cell_type": "code",
      "source": [
        "time_spend_final"
      ],
      "metadata": {
        "id": "DgNaZhSCeosY"
      },
      "execution_count": null,
      "outputs": []
    },
    {
      "cell_type": "code",
      "source": [
        "time_spend_final[['start_station', 'end_station']] = time_spend_final['pair'].str.split('; ', 1, expand=True)"
      ],
      "metadata": {
        "id": "8RKVko7heqK0"
      },
      "execution_count": null,
      "outputs": []
    },
    {
      "cell_type": "code",
      "source": [
        "time_spend_final = time_spend_final[[\"start_station\", \"end_station\", \"Mean_(sec)\", \"Standard_Deviation_(sec)\", \"pair\"]]"
      ],
      "metadata": {
        "id": "JAW429bn_0wr"
      },
      "execution_count": null,
      "outputs": []
    },
    {
      "cell_type": "code",
      "source": [
        "time_spend_final.head(10)"
      ],
      "metadata": {
        "id": "6LWsBP98e_E-"
      },
      "execution_count": null,
      "outputs": []
    },
    {
      "cell_type": "code",
      "source": [
        "cycling_times_from_HP_Corner = time_spend_final[time_spend_final['start_station'] == 'Hyde Park Corner, Hyde Park']\n",
        "cycling_times_from_HP_Corner"
      ],
      "metadata": {
        "id": "0RLf3pS0571v"
      },
      "execution_count": null,
      "outputs": []
    },
    {
      "cell_type": "markdown",
      "source": [
        "Question (E)"
      ],
      "metadata": {
        "id": "r7olO9Z7ULOe"
      }
    },
    {
      "cell_type": "code",
      "source": [
        "van_driving_mean= van_driving.drop(columns = [\"drivingTime_std\"])"
      ],
      "metadata": {
        "id": "wIkv4_D2kDAL"
      },
      "execution_count": null,
      "outputs": []
    },
    {
      "cell_type": "code",
      "source": [
        "matrix = pd.pivot_table(van_driving_mean, values = 'drivingTime_mean', index=['StationA'], columns = 'StationB').fillna(0)\n",
        "matrix"
      ],
      "metadata": {
        "id": "Av8RDdDaqJy-"
      },
      "execution_count": null,
      "outputs": []
    },
    {
      "cell_type": "code",
      "source": [
        "van_driving.head(10)"
      ],
      "metadata": {
        "id": "BK0-f8dsUgLp"
      },
      "execution_count": null,
      "outputs": []
    },
    {
      "cell_type": "code",
      "source": [
        "van_driving_mean= van_driving.drop(columns = [\"drivingTime_std\"])"
      ],
      "metadata": {
        "id": "_uE7uoKYUgLq"
      },
      "execution_count": null,
      "outputs": []
    },
    {
      "cell_type": "code",
      "source": [
        "matrix = pd.pivot_table(van_driving_mean, values = 'drivingTime_mean', index=['StationA'], columns = 'StationB').fillna(0)\n",
        "matrix"
      ],
      "metadata": {
        "id": "jSXPQW-WUgLq"
      },
      "execution_count": null,
      "outputs": []
    },
    {
      "cell_type": "code",
      "source": [
        "values = matrix.values\n",
        "values = values.tolist()\n",
        "values"
      ],
      "metadata": {
        "id": "pMRjvqGabLJA"
      },
      "execution_count": null,
      "outputs": []
    },
    {
      "cell_type": "code",
      "source": [
        "!pip install --upgrade --user ortools"
      ],
      "metadata": {
        "id": "uE2KIUux0KOw"
      },
      "execution_count": null,
      "outputs": []
    },
    {
      "cell_type": "code",
      "source": [
        "!pip install --upgrade --user ortools"
      ],
      "metadata": {
        "id": "VmvlZSWi_E1X"
      },
      "execution_count": null,
      "outputs": []
    },
    {
      "cell_type": "code",
      "source": [
        "from ortools.constraint_solver import routing_enums_pb2\n",
        "from ortools.constraint_solver import pywrapcp\n",
        "\n",
        "\n",
        "def create_data_model():\n",
        "    \"\"\"Stores the data for the problem.\"\"\"\n",
        "    data = {}\n",
        "    data['duration_matrix'] = [\n",
        "        [0,0,0,0,0,0,0,0,0],\n",
        "        [0,0.0, 20.0, 7.0, 6.0, 14.0, 19.0, 22.0, 8.0],\n",
        "        [0,20.0, 0.0, 17.0, 19.0, 10.0, 25.0, 23.0, 16.0],\n",
        "        [0,7.0, 17.0, 0.0, 5.0, 12.0, 20.0, 22.0, 5.0],\n",
        "        [0,6.0, 19.0, 5.0, 0.0, 13.0, 19.0, 20.0, 6.0],\n",
        "        [0,14.0, 10.0, 12.0, 13.0, 0.0, 23.0, 24.0, 13.0],\n",
        "        [0,19.0, 25.0, 20.0, 19.0, 23.0, 0.0, 4.0, 20.0],\n",
        "        [0,22.0, 23.0, 22.0, 20.0, 24.0, 4.0, 0.0, 22.0],\n",
        "        [0,8.0, 16.0, 5.0, 6.0, 13.0, 20.0, 22.0, 0.0],\n",
        "    ] #manually adding the dummy values\n",
        "    data['num_vehicles'] = 1\n",
        "    data['depot'] = 0\n",
        "    return data\n",
        "\n",
        "\n",
        "def print_solution(data, manager, routing, solution):\n",
        "    \"\"\"Prints solution on console.\"\"\"\n",
        "    print(f'Objective: {solution.ObjectiveValue()}')\n",
        "    max_route_duration = 0\n",
        "    for vehicle_id in range(data['num_vehicles']):\n",
        "        index = routing.Start(vehicle_id)\n",
        "        plan_output = 'Route for vehicle {}:\\n'.format(vehicle_id)\n",
        "        route_duration = 0\n",
        "        while not routing.IsEnd(index):\n",
        "            plan_output += ' {} -> '.format(manager.IndexToNode(index))\n",
        "            previous_index = index\n",
        "            index = solution.Value(routing.NextVar(index))\n",
        "            route_duration += routing.GetArcCostForVehicle(\n",
        "                previous_index, index, vehicle_id)\n",
        "        plan_output += '{}\\n'.format(manager.IndexToNode(index))\n",
        "        plan_output += 'Duration of the route: {}min\\n'.format(route_duration)\n",
        "        print(plan_output)\n",
        "        max_route_duration = max(route_duration, max_route_duration)\n",
        "    print('Maximum of the route durations: {}min'.format(max_route_duration))\n",
        "\n",
        "\n",
        "\n",
        "def main():\n",
        "    \"\"\"Entry point of the program.\"\"\"\n",
        "    # Instantiate the data problem.\n",
        "    data = create_data_model()\n",
        "\n",
        "    # Create the routing index manager.\n",
        "    manager = pywrapcp.RoutingIndexManager(len(data['duration_matrix']),\n",
        "                                           data['num_vehicles'], data['depot'])\n",
        "\n",
        "    # Create Routing Model.\n",
        "    routing = pywrapcp.RoutingModel(manager)\n",
        "\n",
        "\n",
        "    # Create and register a transit callback.\n",
        "    def duration_callback(from_index, to_index):\n",
        "        \"\"\"Returns the duration between the two nodes.\"\"\"\n",
        "        # Convert from routing variable Index to duration matrix NodeIndex.\n",
        "        from_node = manager.IndexToNode(from_index)\n",
        "        to_node = manager.IndexToNode(to_index)\n",
        "        return data['duration_matrix'][from_node][to_node]\n",
        "\n",
        "    transit_callback_index = routing.RegisterTransitCallback(duration_callback)\n",
        "\n",
        "    # Define cost of each arc.\n",
        "    routing.SetArcCostEvaluatorOfAllVehicles(transit_callback_index)\n",
        "\n",
        "    # Add duration constraint.\n",
        "    dimension_name = 'duration'\n",
        "    routing.AddDimension(\n",
        "        transit_callback_index,\n",
        "        0,  # no slack\n",
        "        3000,  # vehicle maximum travel duration\n",
        "        True,  # start cumul to zero\n",
        "        dimension_name)\n",
        "    duration_dimension = routing.GetDimensionOrDie(dimension_name)\n",
        "    duration_dimension.SetGlobalSpanCostCoefficient(100)\n",
        "\n",
        "    # Setting first solution heuristic.\n",
        "    search_parameters = pywrapcp.DefaultRoutingSearchParameters()\n",
        "    search_parameters.first_solution_strategy = (\n",
        "        routing_enums_pb2.FirstSolutionStrategy.PATH_CHEAPEST_ARC)\n",
        "\n",
        "    # Solve the problem.\n",
        "    solution = routing.SolveWithParameters(search_parameters)\n",
        "\n",
        "    # Print solution on console.\n",
        "    if solution:\n",
        "        print_solution(data, manager, routing, solution)\n",
        "    else:\n",
        "        print('No solution found !')\n",
        "\n",
        "\n",
        "if __name__ == '__main__':\n",
        "    main()"
      ],
      "metadata": {
        "id": "C-izC-j1Umur"
      },
      "execution_count": null,
      "outputs": []
    },
    {
      "cell_type": "markdown",
      "source": [
        "Question (F) "
      ],
      "metadata": {
        "id": "_zpNEclN-tbF"
      }
    },
    {
      "cell_type": "code",
      "execution_count": null,
      "metadata": {
        "id": "0bdv3j5xb1jK"
      },
      "outputs": [],
      "source": [
        "class Bike_Station:\n",
        "    '''Class to define the data structure of the bike station'''\n",
        "    def __init__(self, env, num_dock, initial_bike, station_name):\n",
        "        self.bike = simpy.Container(env, capacity = num_dock, init = initial_bike) # Num of bikes available initially\n",
        "        self.user_dissatisfaction = 0 # User dissatisfaction incident count\n",
        "        self.num_dock = num_dock # Num of docks for the station\n",
        "        self.station_name = station_name # Name of the station\n",
        "        self.user_start = 0 # Count of the user starts the journey at the station\n",
        "        self.user_end = 0 # Count of the user ends the journey at the station"
      ]
    },
    {
      "cell_type": "code",
      "execution_count": null,
      "metadata": {
        "id": "04B9f74db1jL"
      },
      "outputs": [],
      "source": [
        "def user(env, startStation_idx, endStation_idx):\n",
        "    '''\n",
        "    Function for simulating single user journey\n",
        "    Arguments:\n",
        "    startStation_idx: The index of the starting station in the station list, also corresponds to the index in the \n",
        "    riding time mean/std arrays\n",
        "    startStation_idx: The index of the destination station in the station list, also corresponds to the index in \n",
        "    the riding time mean/std arrays'''\n",
        "    start_station = stations[startStation_idx] # Get the bike station class from the station list\n",
        "    end_station = stations[endStation_idx] # Get the bike station class from the station list\n",
        "    start_station.user_start+=1 # Count of the user starts from the station +1\n",
        "    if start_station.bike.level == 0: \n",
        "        # Check if there's no bike available at the station, add 1 to the count of dissatisfaction if that's the case\n",
        "        print(f'Didn\\'t get bike from {start_station.station_name} at {env.now:.1f}')\n",
        "        start_station.user_dissatisfaction+=1\n",
        "    else:\n",
        "        print(f'Get bike from {start_station.station_name} at {env.now:.10f}')\n",
        "        yield start_station.bike.get(1) # Get 1 bike from the station\n",
        "        \n",
        "        # Randomly generate the travel time based on a normal distribution\n",
        "        travel_time = random.gauss(ridingTime_mean[startStation_idx][endStation_idx], \n",
        "                                   ridingTime_std[startStation_idx][endStation_idx])\n",
        "        \n",
        "        # The Randomly generated travel time should larger or equal to the minimum value in the historical data\n",
        "        travel_time = max(travel_time, ridingTime_min[startStation_idx][endStation_idx])\n",
        "        \n",
        "        yield env.timeout(travel_time) # User rides the bike for X mins \n",
        "        print(f'User arrived at {end_station.station_name} at {env.now:.1f}')\n",
        "        end_station.user_end += 1 # Count of the user arrives at the station +1\n",
        "        \n",
        "        start_wait_time = env.now # Record the time when the user arrives at the station\n",
        "        park_bike = end_station.bike.put(1) # User tries to park the bike at the station\n",
        "        yield park_bike # Yield the process as we wait for it to be finished\n",
        "        if park_bike.triggered: # Check if the parking process is successfully triggered (finished)\n",
        "            end_wait_time = env.now # Record the time when the user finished parking the bike\n",
        "            if end_wait_time - start_wait_time > 0: \n",
        "                # Add 1 to the count of dissatisfaction if the user has waited for some time to park the bike\n",
        "                end_station.user_dissatisfaction += 1\n",
        "                print(f'Client dissatisfied, waiting time: {end_wait_time - start_wait_time:.1f}')\n",
        "            #else:\n",
        "                #print(f'Client satisfied, waiting time: {end_wait_time - start_wait_time:.1f}')"
      ]
    },
    {
      "cell_type": "code",
      "execution_count": null,
      "metadata": {
        "id": "kOjGjIMvb1jM"
      },
      "outputs": [],
      "source": [
        "def user_gen(env, startTime, endTime, arrivalRate, startStation_idx):\n",
        "    '''\n",
        "    Function for simulating user arrivals at a single station\n",
        "    Arguments:\n",
        "    startTime: Start time of the generation\n",
        "    endTime: end time of the generation\n",
        "    arrivalRate: the arrival rate of the user - used to generate inter-arrival time\n",
        "    startStation_idx: the index of the start station in the station list'''\n",
        "    while True: # Loop for waiting until the start of the process\n",
        "        if env.now == startTime: # Start user arrival generation\n",
        "            next_arrival = random.expovariate(arrivalRate) # Time interval \n",
        "            while env.now + next_arrival <= endTime: # The function would generate new arrival only before the end time\n",
        "                yield env.timeout(next_arrival) # Time delay \n",
        "                \n",
        "                # Randomly select a destination station based on the probability array\n",
        "                endStation_idx = random.choices(range(len(stations)), weights=dest_prob[startStation_idx], k=1)[0]\n",
        "                env.process(user(env, startStation_idx, endStation_idx)) # Start a single user journey simulation\n",
        "                next_arrival = random.expovariate(arrivalRate)\n",
        "            break # Prevent infinite loop\n",
        "        yield env.timeout(1) # Time delay for 1 unit it reaches the start time"
      ]
    },
    {
      "cell_type": "code",
      "execution_count": null,
      "metadata": {
        "id": "exbqckGKb1jN"
      },
      "outputs": [],
      "source": [
        "class Rebalance_Van:\n",
        "    '''Class to define the van for a full cycle of redistribution trip under a certain policy'''\n",
        "    def __init__(self, env, capacity, initial_bike, startTime, route):\n",
        "        self.capacity = capacity # Num of maximum bikes that the van can hold\n",
        "        self.route = route # Route of the redistribution trip, a list of station indices indicating the sequence of station visits\n",
        "        self.startTime = startTime # The time when the van starts the trip\n",
        "        self.van = simpy.Container(env, capacity = capacity, init = initial_bike) # Container for simulating the storage on the van \n",
        "        self.van_routing = env.process(self.van_routing(env)) # Initialize the redistribution trip\n",
        "        \n",
        "        \n",
        "    def van_routing(self, env):\n",
        "        while True:\n",
        "            yield env.timeout(1)\n",
        "            if env.now == self.startTime:\n",
        "                # We assume the van starts the trip at a bike station\n",
        "                print(f'Van arrived at station {stations[self.route[0]].station_name} at {env.now:.1f}')\n",
        "                \n",
        "                # Rebalancing process according to the defined policy\n",
        "                yield env.process(self.rebalance_process(env, stations[self.route[0]]))\n",
        "                \n",
        "                for idx in range(len(self.route)-1):\n",
        "                    \n",
        "                    # Generating travel time from the current station to the next one based on the mean and std,\n",
        "                    # need to be at least 1 minute\n",
        "                    yield env.timeout(max(random.gauss(vanRidingTime_mean[self.route[idx]][self.route[idx+1]], \n",
        "                                                   vanRidingTime_std[self.route[idx]][self.route[idx+1]]),1))\n",
        "                    print(f'Van arrived at station {stations[self.route[idx+1]].station_name} at {env.now:.1f}')\n",
        "                    yield env.process(self.rebalance_process(env, stations[self.route[idx+1]]))\n",
        "                break\n",
        "                \n",
        "    def rebalance_process(self, env, station):\n",
        "        # Rebalance policy - make the num of bikes to half of the capacity of the station\n",
        "        # You can implement other rebalance policy by amending the code\n",
        "        if station.bike.level > int(station.num_dock/2): # If there are more bikes than half of the capacity\n",
        "            \n",
        "            # Decide the num of bikes moving to the van from the station\n",
        "            # Choose the smaller value between the number of bikes exceeding half of the capacity and available slots on the van\n",
        "            num_bike_to_van = min(station.bike.level - int(station.num_dock/2), self.capacity - self.van.level)\n",
        "            if num_bike_to_van>0: # Make sure the num get from or put to the container is larger than 0\n",
        "                yield station.bike.get(num_bike_to_van) # Get bikes from the station\n",
        "                yield env.timeout(num_bike_to_van*15/60) # Time spent on moving the bike, 15 seconds each (converted to minutes)\n",
        "                print(f'Van get {num_bike_to_van} bikes from {station.station_name}')\n",
        "        else:\n",
        "            # Decide the num of bikes moving to the station from the van\n",
        "            # Choose the smaller value between the number of bikes needed for filling half of the capacity and available bikes on the van\n",
        "            num_bike_from_van = min(int(station.num_dock/2) - station.bike.level, self.van.level)\n",
        "            if num_bike_from_van>0:\n",
        "                yield station.bike.put(num_bike_from_van) # Put bikes to the station\n",
        "                yield self.van.get(num_bike_from_van) # Get bikes from the van\n",
        "                yield env.timeout(num_bike_from_van*15/60) # Time spent on moving the bikes\n",
        "                print(f'Van put {num_bike_from_van} bikes to {station.station_name}')"
      ]
    },
    {
      "cell_type": "code",
      "execution_count": null,
      "metadata": {
        "id": "xHMuoZ_Ib1jN"
      },
      "outputs": [],
      "source": [
        "class dataGen:\n",
        "    '''Class to record data during the simulation. The data can be used for visualization'''\n",
        "    def __init__(self, env, startTime, endTime):\n",
        "        self.startTime = startTime # Start time of recording data\n",
        "        self.endTime = endTime # End time\n",
        "        self.numBikes_list = [[] for i in range(len(stations))] # Initialize the list for recording the num of bikes at each station \n",
        "        self.dissatisfaction_list = [[] for i in range(len(stations))] # Initialize the list for recording the num of dissatisfaction incidents of each station \n",
        "        self.dataGen_process = env.process(self.dataGen(env)) # Start data collection process\n",
        "        \n",
        "    def dataGen(self, env):\n",
        "        '''Function for data collection process'''\n",
        "        while True: \n",
        "            # Loop until the start time\n",
        "            if env.now == self.startTime:\n",
        "                while True:\n",
        "                    # Append the num of bikes at each station to the respective sublist\n",
        "                    self.numBikes_list = [self.numBikes_list[idx]+[stations[idx].bike.level] \n",
        "                                          for idx in range(len(stations))]\n",
        "                    \n",
        "                    # Append the num of dissatisfaction incidents for each station to the respective sublist\n",
        "                    self.dissatisfaction_list = [self.dissatisfaction_list[idx]+[\n",
        "                        stations[idx].user_dissatisfaction] for idx in range(len(stations))]\n",
        "                    yield env.timeout(1) # Record data every 1 unit time\n",
        "                    if env.now == self.endTime: \n",
        "                        break # Terminate the collection process when reaches the end time\n",
        "                break # Prevent infinite loop\n",
        "            yield env.timeout(1)"
      ]
    },
    {
      "cell_type": "code",
      "source": [
        "# Define the simulation environment\n",
        "env = simpy.Environment()"
      ],
      "metadata": {
        "id": "CPpQK6hE-tNt"
      },
      "execution_count": null,
      "outputs": []
    },
    {
      "cell_type": "code",
      "source": [
        "stations = [Bike_Station(env, num_dock = 34, initial_bike = 17, station_name = 'Albert Gate, Hyde Park'),\n",
        "            Bike_Station(env, num_dock = 27, initial_bike = 14, station_name = 'Bayswater Road, Hyde Park'),\n",
        "            Bike_Station(env, num_dock = 36, initial_bike = 18, station_name = 'Hyde Park Corner, Hyde Park'),\n",
        "            Bike_Station(env, num_dock = 43, initial_bike = 21, station_name = 'Knightsbridge, Hyde Park'),\n",
        "            Bike_Station(env, num_dock = 28, initial_bike = 14, station_name = 'Park Lane , Hyde Park'),\n",
        "            Bike_Station(env, num_dock = 18, initial_bike = 9, station_name = 'Serpentine Car Park, Hyde Park'),\n",
        "            Bike_Station(env, num_dock = 27, initial_bike = 13, station_name = 'Triangle Car Park, Hyde Park'),\n",
        "            Bike_Station(env, num_dock = 36, initial_bike = 18, station_name = 'Wellington Arch, Hyde Park'),\n",
        "            Bike_Station(env, num_dock = 1000, initial_bike = 500, station_name = 'Other')]\n",
        "    "
      ],
      "metadata": {
        "id": "k6HibqDL_Ze8"
      },
      "execution_count": null,
      "outputs": []
    },
    {
      "cell_type": "code",
      "source": [
        "#Taking Q(c) dataframe with Mean, Std, putting probability and Min into it to create time_spent_min~"
      ],
      "metadata": {
        "id": "5UTyJCY7AuZZ"
      },
      "execution_count": null,
      "outputs": []
    },
    {
      "cell_type": "code",
      "source": [
        "time_spent_min = time_spent_df.groupby(['pair'], as_index=False)['Duration'].min()\n",
        "time_spent_min"
      ],
      "metadata": {
        "id": "Kpe0A1TZAudz"
      },
      "execution_count": null,
      "outputs": []
    },
    {
      "cell_type": "code",
      "source": [
        "time_spend_final1 = pd.merge(time_spend_final, time_spent_min, how=\"outer\", left_on=['pair'], right_on = ['pair'])"
      ],
      "metadata": {
        "id": "N1J5eaZxAjtS"
      },
      "execution_count": null,
      "outputs": []
    },
    {
      "cell_type": "code",
      "source": [
        "time_spend_final1 = time_spend_final1.rename(columns={'Duration': 'Min_(sec)'})"
      ],
      "metadata": {
        "id": "0BCLw0oQA5A4"
      },
      "execution_count": null,
      "outputs": []
    },
    {
      "cell_type": "code",
      "source": [
        "Dest_P = final_df[[\"pair\",\"Probability\"]]"
      ],
      "metadata": {
        "id": "E3S_yiEq_lIg"
      },
      "execution_count": null,
      "outputs": []
    },
    {
      "cell_type": "code",
      "source": [
        "Dest_P.head(50)"
      ],
      "metadata": {
        "id": "5Ff14hpzCc5j"
      },
      "execution_count": null,
      "outputs": []
    },
    {
      "cell_type": "code",
      "source": [
        "time_spend_final1 = pd.merge(time_spend_final1, Dest_P, how=\"outer\", left_on=['pair'], right_on = ['pair'])"
      ],
      "metadata": {
        "id": "iMXBE1BNBG_F"
      },
      "execution_count": null,
      "outputs": []
    },
    {
      "cell_type": "code",
      "source": [
        "time_spend_final1 = time_spend_final1.replace('Other','z_Other')\n"
      ],
      "metadata": {
        "id": "CYkYumk2GE4t"
      },
      "execution_count": null,
      "outputs": []
    },
    {
      "cell_type": "code",
      "source": [
        "time_spend_final1 = time_spend_final1.sort_values(by=[\"start_station\"])"
      ],
      "metadata": {
        "id": "o3vaRNxxHXC4"
      },
      "execution_count": null,
      "outputs": []
    },
    {
      "cell_type": "code",
      "source": [
        "time_spend_final1[\"start_station\"].unique()"
      ],
      "metadata": {
        "id": "JsmHRa5MHp6c"
      },
      "execution_count": null,
      "outputs": []
    },
    {
      "cell_type": "code",
      "source": [
        "time_spend_final1[\"Mean_min\"] = time_spend_final1[\"Mean_(sec)\"]/60\n",
        "time_spend_final1[\"Standard_Deviation_min\"] = time_spend_final1[\"Standard_Deviation_(sec)\"]/60\n",
        "time_spend_final1[\"Min_min\"] = time_spend_final1[\"Min_(sec)\"]/60"
      ],
      "metadata": {
        "id": "iIkOamOYtbBQ"
      },
      "execution_count": null,
      "outputs": []
    },
    {
      "cell_type": "code",
      "source": [
        "time_spend_final1[\"start_station\"].unique()"
      ],
      "metadata": {
        "id": "R5TeHuLBuGe4"
      },
      "execution_count": null,
      "outputs": []
    },
    {
      "cell_type": "code",
      "source": [
        "time_spend_final1"
      ],
      "metadata": {
        "id": "QY3iO9UU12_6"
      },
      "execution_count": null,
      "outputs": []
    },
    {
      "cell_type": "code",
      "source": [
        "#Creating Matrix for all 4 values - mean, std, min, probability\n",
        "#Creating Matrix for Van_driving_std, van_driving_mean"
      ],
      "metadata": {
        "id": "0DxdERIUBWT5"
      },
      "execution_count": null,
      "outputs": []
    },
    {
      "cell_type": "code",
      "source": [
        "ride_time_mean_matrix = pd.pivot_table(time_spend_final1, values = 'Mean_min', index=['start_station'], columns = 'end_station').fillna(0)\n",
        "ride_time_std_matrix = pd.pivot_table(time_spend_final1, values = 'Standard_Deviation_min', index=['start_station'], columns = 'end_station').fillna(0)\n",
        "ride_time_min_matrix = pd.pivot_table(time_spend_final1, values = 'Min_min', index=['start_station'], columns = 'end_station').fillna(0)\n",
        "ride_time_P_matrix = pd.pivot_table(time_spend_final1, values = 'Probability', index=['start_station'], columns = 'end_station').fillna(0)\n",
        "\n",
        "van_drivingTime_mean_Matrix = pd.pivot_table(van_driving, values = 'drivingTime_mean', index=['StationA'], columns = 'StationB').fillna(0)\n",
        "van_drivingTime_std_Matrix = pd.pivot_table(van_driving, values = 'drivingTime_std', index=['StationA'], columns = 'StationB').fillna(0)"
      ],
      "metadata": {
        "id": "uEfJOP0MBo7r"
      },
      "execution_count": null,
      "outputs": []
    },
    {
      "cell_type": "code",
      "source": [
        "ride_time_P_matrix "
      ],
      "metadata": {
        "id": "FUMCoucw_ji3"
      },
      "execution_count": null,
      "outputs": []
    },
    {
      "cell_type": "code",
      "source": [
        "ride_time_mean_matrix_values = ride_time_mean_matrix.values\n",
        "list_mean_ridetime = ride_time_mean_matrix_values.tolist()\n",
        "\n",
        "ride_time_std_matrix_values = ride_time_std_matrix.values\n",
        "list_std_ridetime = ride_time_std_matrix_values.tolist()\n",
        "\n",
        "ride_time_min_matrix_values = ride_time_min_matrix.values\n",
        "list_min_ridetime = ride_time_min_matrix_values.tolist()\n",
        "\n",
        "ride_time_P_matrix_values = ride_time_P_matrix.values\n",
        "list_P_ridetime = ride_time_P_matrix_values.tolist()\n",
        "\n",
        "van_drivingTime_mean_Matrix_values = van_drivingTime_mean_Matrix.values\n",
        "list_van_driving_mean = van_drivingTime_mean_Matrix_values.tolist()\n",
        "\n",
        "van_drivingTime_std_Matrix_values = van_drivingTime_std_Matrix.values\n",
        "list_van_driving_std = van_drivingTime_std_Matrix_values.tolist()"
      ],
      "metadata": {
        "id": "rk-5rEXgCWkM"
      },
      "execution_count": null,
      "outputs": []
    },
    {
      "cell_type": "code",
      "source": [
        "list_mean_ridetime "
      ],
      "metadata": {
        "id": "4TIszAa_RUsS"
      },
      "execution_count": null,
      "outputs": []
    },
    {
      "cell_type": "code",
      "source": [
        "stopper "
      ],
      "metadata": {
        "id": "yn2rnsG_RWOy"
      },
      "execution_count": null,
      "outputs": []
    },
    {
      "cell_type": "code",
      "source": [
        "# Hand defined synthetic data for the mean/std riding time, destination probabilities, minimum riding time, \n",
        "# mean/std van travelling time.\n",
        "# Data defined in 2-D arrays.\n",
        "# For example in the mean riding time array ridingTime_mean, ridingTime_mean[0][1] is the mean riding time from \n",
        "# station 0 (index in the list \"stations\") to station 1.\n",
        "ridingTime_mean = np.array(list_mean_ridetime)\n",
        "ridingTime_std = np.array(list_std_ridetime)\n",
        "ridingTime_min = np.array(list_min_ridetime)\n",
        "dest_prob = np.array(list_P_ridetime)\n",
        "\n",
        "vanRidingTime_mean = np.array(list_van_driving_mean)\n",
        "vanRidingTime_std = np.array(list_van_driving_std)"
      ],
      "metadata": {
        "id": "dCMXsyiMCcxN"
      },
      "execution_count": null,
      "outputs": []
    },
    {
      "cell_type": "code",
      "source": [
        "ridingTime_min"
      ],
      "metadata": {
        "id": "ossGdV0w0qiy"
      },
      "execution_count": null,
      "outputs": []
    },
    {
      "cell_type": "code",
      "source": [
        "ridingTime_std"
      ],
      "metadata": {
        "id": "x497GcL20qot"
      },
      "execution_count": null,
      "outputs": []
    },
    {
      "cell_type": "code",
      "source": [
        "arrival_df = final_df[[\"start_station\", \"start_hour\", \"Demand_per_startstation_at_certain_hr\"]]"
      ],
      "metadata": {
        "id": "vcAL5LWCGIr_"
      },
      "execution_count": null,
      "outputs": []
    },
    {
      "cell_type": "code",
      "source": [
        "arrival_df= arrival_df.drop_duplicates()"
      ],
      "metadata": {
        "id": "yHQfJ1sGNcw5"
      },
      "execution_count": null,
      "outputs": []
    },
    {
      "cell_type": "code",
      "source": [
        "arrival_df[\"Demand_per_day_per_mins\"] = arrival_df[\"Demand_per_startstation_at_certain_hr\"]/15/60"
      ],
      "metadata": {
        "id": "PUHGDxdMJFpA"
      },
      "execution_count": null,
      "outputs": []
    },
    {
      "cell_type": "code",
      "source": [
        "arrival_df = arrival_df.replace('Other','z_Other')\n"
      ],
      "metadata": {
        "id": "5u8Il9-UI29L"
      },
      "execution_count": null,
      "outputs": []
    },
    {
      "cell_type": "code",
      "source": [
        "arrival_df = arrival_df.sort_values(by=[\"start_station\"])"
      ],
      "metadata": {
        "id": "_8jEN_-AI29M"
      },
      "execution_count": null,
      "outputs": []
    },
    {
      "cell_type": "code",
      "source": [
        "#arrival_df= arrival_df.loc[arrival_df[\"start_station\"] != \"Other\"]"
      ],
      "metadata": {
        "id": "-CO7kUP1G7Pt"
      },
      "execution_count": null,
      "outputs": []
    },
    {
      "cell_type": "code",
      "source": [
        "arrival_df[\"start_station\"].unique()"
      ],
      "metadata": {
        "id": "_U0mC7IfPF7h"
      },
      "execution_count": null,
      "outputs": []
    },
    {
      "cell_type": "code",
      "source": [
        "#arrival_df_matrix = pd.pivot_table(arrival_df, values = 'Demand_per_day_per_mins', index=['start_hour'], columns = 'start_station').fillna(0)"
      ],
      "metadata": {
        "id": "LohJTuX2NM-k"
      },
      "execution_count": null,
      "outputs": []
    },
    {
      "cell_type": "code",
      "source": [
        "arrival_df_matrix = pd.pivot_table(arrival_df, values = 'Demand_per_day_per_mins', index=['start_station'], columns ='start_hour').fillna(0)"
      ],
      "metadata": {
        "id": "rdb6izBxjCpN"
      },
      "execution_count": null,
      "outputs": []
    },
    {
      "cell_type": "code",
      "source": [
        "arrival_df_matrix"
      ],
      "metadata": {
        "id": "kk2lgNYwOkGX"
      },
      "execution_count": null,
      "outputs": []
    },
    {
      "cell_type": "code",
      "source": [
        "arrival_df_matrix_values = arrival_df_matrix.values\n",
        "list_arrival_df= arrival_df_matrix_values.tolist()"
      ],
      "metadata": {
        "id": "pTsORMIIPgFn"
      },
      "execution_count": null,
      "outputs": []
    },
    {
      "cell_type": "code",
      "source": [
        "arrival_rate = np.array(list_arrival_df)"
      ],
      "metadata": {
        "id": "gmXi_ZRzP3gr"
      },
      "execution_count": null,
      "outputs": []
    },
    {
      "cell_type": "code",
      "source": [
        "# Generate users\n",
        "for station_idx in range(len(stations)):\n",
        "    # Total period of 16 hours\n",
        "    for period in range(16):\n",
        "        env.process(user_gen(env, \n",
        "                             startTime = 60*period, \n",
        "                             endTime = 60*(period+1), \n",
        "                             arrivalRate = arrival_rate[station_idx][period], \n",
        "                             startStation_idx = station_idx))"
      ],
      "metadata": {
        "id": "4-S-QK0TQJ5C"
      },
      "execution_count": null,
      "outputs": []
    },
    {
      "cell_type": "code",
      "source": [
        "# Implement one rebalancing starts at 10 and the sequence of visiting is 1, 2, 3 (we don't put 0 as \n",
        "# that's the grouping of all the stations out of this scope).\n",
        "rebalancing_1 = Rebalance_Van(env, capacity = 30, initial_bike = 20, startTime = 60, route = [1,4,7,2,3,0,5,6])\n"
      ],
      "metadata": {
        "id": "YDtf2YgUR25m"
      },
      "execution_count": null,
      "outputs": []
    },
    {
      "cell_type": "code",
      "source": [
        "# Record data for visulization (16*60)\n",
        "recorded = dataGen(env, startTime = 0, endTime = 960)\n",
        "\n",
        "# Run the simulation\n",
        "env.run()\n",
        "\n",
        "# Print the dissatisfaction of each station (you might need to run many simulations and calcluate the mean)\n",
        "for station in stations:\n",
        "    print(f'Num of dissatisfaction at station {station.station_name} is {station.user_dissatisfaction}')"
      ],
      "metadata": {
        "id": "Dl52fq3AS-bt"
      },
      "execution_count": null,
      "outputs": []
    },
    {
      "cell_type": "code",
      "source": [
        "plt.figure(figsize=(10,5))\n",
        "for i in range(0, 8):\n",
        "    plt.plot(recorded.numBikes_list[i], label = stations[i].station_name)\n",
        "plt.legend()\n",
        "plt.title('Num of Bikes at each Station')\n",
        "plt.show()"
      ],
      "metadata": {
        "id": "x9_ffjPfS_3f"
      },
      "execution_count": null,
      "outputs": []
    },
    {
      "cell_type": "code",
      "source": [
        "plt.figure(figsize=(10,5))\n",
        "for i in range(0, 8):\n",
        "    plt.plot(recorded.dissatisfaction_list[i], label = stations[i].station_name)\n",
        "plt.title('Num of dissatisfaction records at each Station')\n",
        "plt.legend()\n",
        "plt.show()"
      ],
      "metadata": {
        "id": "Di_L1860TAxS"
      },
      "execution_count": null,
      "outputs": []
    },
    {
      "cell_type": "markdown",
      "source": [
        "Question G"
      ],
      "metadata": {
        "id": "kpwZUuL_Li-X"
      }
    },
    {
      "cell_type": "markdown",
      "source": [
        "Rebalance 1st"
      ],
      "metadata": {
        "id": "mUbvm1PdLyN7"
      }
    },
    {
      "cell_type": "markdown",
      "source": [
        "We changed the initial bike level for each station to the third of the available docks."
      ],
      "metadata": {
        "id": "RBG2avAsRjlt"
      }
    },
    {
      "cell_type": "code",
      "source": [
        "# Define the simulation environment\n",
        "env = simpy.Environment()"
      ],
      "metadata": {
        "id": "ZrKAwNoOLtKM"
      },
      "execution_count": null,
      "outputs": []
    },
    {
      "cell_type": "code",
      "source": [
        "stations = [Bike_Station(env, num_dock = 34, initial_bike = 22, station_name = 'Albert Gate, Hyde Park'),\n",
        "            Bike_Station(env, num_dock = 27, initial_bike = 14, station_name = 'Bayswater Road, Hyde Park'),\n",
        "            Bike_Station(env, num_dock = 36, initial_bike = 12, station_name = 'Hyde Park Corner, Hyde Park'),\n",
        "            Bike_Station(env, num_dock = 43, initial_bike = 16, station_name = 'Knightsbridge, Hyde Park'),\n",
        "            Bike_Station(env, num_dock = 28, initial_bike = 8, station_name = 'Park Lane , Hyde Park'),\n",
        "            Bike_Station(env, num_dock = 18, initial_bike = 6, station_name = 'Serpentine Car Park, Hyde Park'),\n",
        "            Bike_Station(env, num_dock = 27, initial_bike = 9, station_name = 'Triangle Car Park, Hyde Park'),\n",
        "            Bike_Station(env, num_dock = 36, initial_bike = 12, station_name = 'Wellington Arch, Hyde Park'),\n",
        "            Bike_Station(env, num_dock = 1000, initial_bike = 500, station_name = 'Other')]\n",
        "    "
      ],
      "metadata": {
        "id": "yb2dx5QcLtKM"
      },
      "execution_count": null,
      "outputs": []
    },
    {
      "cell_type": "code",
      "source": [
        "# Generate users\n",
        "for station_idx in range(len(stations)):\n",
        "    # Total period of 16 hours\n",
        "    for period in range(16):\n",
        "        env.process(user_gen(env, \n",
        "                             startTime = 60*period, \n",
        "                             endTime = 60*(period+1), \n",
        "                             arrivalRate = arrival_rate[station_idx][period], \n",
        "                             startStation_idx = station_idx))"
      ],
      "metadata": {
        "id": "RuMOCqUhLtKN"
      },
      "execution_count": null,
      "outputs": []
    },
    {
      "cell_type": "code",
      "source": [
        "# Implement one rebalancing starts at 10 and the sequence of visiting is 1, 2, 3 (we don't put 0 as \n",
        "# that's the grouping of all the stations out of this scope).\n",
        "rebalancing_2 = Rebalance_Van(env, capacity = 30, initial_bike = 20, startTime = 60, route = [1,4,7,2,3,0,5,6])\n"
      ],
      "metadata": {
        "id": "FeNeqVGvLtKN"
      },
      "execution_count": null,
      "outputs": []
    },
    {
      "cell_type": "code",
      "source": [
        "# Record data for visulization (16*60)\n",
        "recorded = dataGen(env, startTime = 0, endTime = 1020)\n",
        "\n",
        "# Run the simulation\n",
        "env.run()\n",
        "\n",
        "# Print the dissatisfaction of each station (you might need to run many simulations and calcluate the mean)\n",
        "for station in stations:\n",
        "    print(f'Num of dissatisfaction at station {station.station_name} is {station.user_dissatisfaction}')"
      ],
      "metadata": {
        "id": "-2T25_S0LtKN"
      },
      "execution_count": null,
      "outputs": []
    },
    {
      "cell_type": "code",
      "source": [
        "plt.figure(figsize=(10,5))\n",
        "for i in range(0, 8):\n",
        "    plt.plot(recorded.numBikes_list[i], label = stations[i].station_name)\n",
        "plt.legend()\n",
        "plt.title('Num of Bikes at each Station')\n",
        "plt.show()"
      ],
      "metadata": {
        "id": "6-m47t_8LtKN"
      },
      "execution_count": null,
      "outputs": []
    },
    {
      "cell_type": "code",
      "source": [
        "plt.figure(figsize=(10,5))\n",
        "for i in range(0, 8):\n",
        "    plt.plot(recorded.dissatisfaction_list[i], label = stations[i].station_name)\n",
        "plt.title('Num of dissatisfaction records at each Station')\n",
        "plt.legend()\n",
        "plt.show()"
      ],
      "metadata": {
        "id": "7BFOWl_LLtKO"
      },
      "execution_count": null,
      "outputs": []
    },
    {
      "cell_type": "markdown",
      "source": [
        "Simulation 2"
      ],
      "metadata": {
        "id": "8R_biNdlMiFE"
      }
    },
    {
      "cell_type": "markdown",
      "source": [
        "From the previous simulation, Bayswater and Serpentine Car Park stations were very dissatisfied with fewer bikes so we increased the level of initial bikes at the station for them to a higher number."
      ],
      "metadata": {
        "id": "tc_cXwstRYhy"
      }
    },
    {
      "cell_type": "code",
      "source": [
        "# Define the simulation environment\n",
        "env = simpy.Environment()"
      ],
      "metadata": {
        "id": "VYDUWXyMMg0i"
      },
      "execution_count": null,
      "outputs": []
    },
    {
      "cell_type": "code",
      "source": [
        "stations = [Bike_Station(env, num_dock = 34, initial_bike = 11, station_name = 'Albert Gate, Hyde Park'),\n",
        "            Bike_Station(env, num_dock = 27, initial_bike = 18, station_name = 'Bayswater Road, Hyde Park'),\n",
        "            Bike_Station(env, num_dock = 36, initial_bike = 12, station_name = 'Hyde Park Corner, Hyde Park'),\n",
        "            Bike_Station(env, num_dock = 43, initial_bike = 16, station_name = 'Knightsbridge, Hyde Park'),\n",
        "            Bike_Station(env, num_dock = 28, initial_bike = 8, station_name = 'Park Lane , Hyde Park'),\n",
        "            Bike_Station(env, num_dock = 18, initial_bike = 6, station_name = 'Serpentine Car Park, Hyde Park'),\n",
        "            Bike_Station(env, num_dock = 27, initial_bike = 18, station_name = 'Triangle Car Park, Hyde Park'),\n",
        "            Bike_Station(env, num_dock = 36, initial_bike = 12, station_name = 'Wellington Arch, Hyde Park'),\n",
        "            Bike_Station(env, num_dock = 1000, initial_bike = 500, station_name = 'Other')]\n",
        "    "
      ],
      "metadata": {
        "id": "Vr1uk1aiMg0j"
      },
      "execution_count": null,
      "outputs": []
    },
    {
      "cell_type": "code",
      "source": [
        "# Generate users\n",
        "for station_idx in range(len(stations)):\n",
        "    # Total period of 16 hours\n",
        "    for period in range(16):\n",
        "        env.process(user_gen(env, \n",
        "                             startTime = 60*period, \n",
        "                             endTime = 60*(period+1), \n",
        "                             arrivalRate = arrival_rate[station_idx][period], \n",
        "                             startStation_idx = station_idx))"
      ],
      "metadata": {
        "id": "lyHDfODGMg0j"
      },
      "execution_count": null,
      "outputs": []
    },
    {
      "cell_type": "code",
      "source": [
        "# Implement one rebalancing starts at 10 and the sequence of visiting is 1, 2, 3 (we don't put 0 as \n",
        "# that's the grouping of all the stations out of this scope).\n",
        "rebalancing_1 = Rebalance_Van(env, capacity = 30, initial_bike = 20, startTime = 60, route = [1,4,7,2,3,0,5,6])\n",
        "rebalancing_2 = Rebalance_Van(env, capacity = 30, initial_bike = 20, startTime = 60, route = [1,4,7,2,3,0,5,6])"
      ],
      "metadata": {
        "id": "c06GDujvMg0j"
      },
      "execution_count": null,
      "outputs": []
    },
    {
      "cell_type": "code",
      "source": [
        "# Record data for visulization (16*60)\n",
        "recorded = dataGen(env, startTime = 0, endTime = 960)\n",
        "\n",
        "# Run the simulation\n",
        "env.run()\n",
        "\n",
        "# Print the dissatisfaction of each station (you might need to run many simulations and calcluate the mean)\n",
        "for station in stations:\n",
        "    print(f'Num of dissatisfaction at station {station.station_name} is {station.user_dissatisfaction}')"
      ],
      "metadata": {
        "id": "pUQicmE6Mg0j"
      },
      "execution_count": null,
      "outputs": []
    },
    {
      "cell_type": "code",
      "source": [
        "plt.figure(figsize=(10,5))\n",
        "for i in range(0, 8):\n",
        "    plt.plot(recorded.numBikes_list[i], label = stations[i].station_name)\n",
        "plt.legend()\n",
        "plt.title('Num of Bikes at each Station')\n",
        "plt.show()"
      ],
      "metadata": {
        "id": "-LdS722NMg0j"
      },
      "execution_count": null,
      "outputs": []
    },
    {
      "cell_type": "code",
      "source": [
        "plt.figure(figsize=(10,5))\n",
        "for i in range(0, 8):\n",
        "    plt.plot(recorded.dissatisfaction_list[i], label = stations[i].station_name)\n",
        "plt.title('Num of dissatisfaction records at each Station')\n",
        "plt.legend()\n",
        "plt.show()"
      ],
      "metadata": {
        "id": "4ZLvN0x9Mg0j"
      },
      "execution_count": null,
      "outputs": []
    },
    {
      "cell_type": "markdown",
      "source": [
        "Simulation 3"
      ],
      "metadata": {
        "id": "yN1USVdTNaw7"
      }
    },
    {
      "cell_type": "markdown",
      "source": [
        "We changed the initial bike from 20 to 30 in the first rebalancing strategy. We kept the initial bike levels for each station from the previous simulation."
      ],
      "metadata": {
        "id": "FCstlygOQ6Nc"
      }
    },
    {
      "cell_type": "code",
      "source": [],
      "metadata": {
        "id": "iOSrTENLbe7w"
      },
      "execution_count": null,
      "outputs": []
    },
    {
      "cell_type": "code",
      "source": [
        "# Define the simulation environment\n",
        "env = simpy.Environment()"
      ],
      "metadata": {
        "id": "F8Qh_HVgNaw7"
      },
      "execution_count": null,
      "outputs": []
    },
    {
      "cell_type": "code",
      "source": [
        "stations = [Bike_Station(env, num_dock = 34, initial_bike = 11, station_name = 'Albert Gate, Hyde Park'),\n",
        "            Bike_Station(env, num_dock = 27, initial_bike = 18, station_name = 'Bayswater Road, Hyde Park'),\n",
        "            Bike_Station(env, num_dock = 36, initial_bike = 12, station_name = 'Hyde Park Corner, Hyde Park'),\n",
        "            Bike_Station(env, num_dock = 43, initial_bike = 16, station_name = 'Knightsbridge, Hyde Park'),\n",
        "            Bike_Station(env, num_dock = 28, initial_bike = 8, station_name = 'Park Lane , Hyde Park'),\n",
        "            Bike_Station(env, num_dock = 18, initial_bike = 6, station_name = 'Serpentine Car Park, Hyde Park'),\n",
        "            Bike_Station(env, num_dock = 27, initial_bike = 18, station_name = 'Triangle Car Park, Hyde Park'),\n",
        "            Bike_Station(env, num_dock = 36, initial_bike = 12, station_name = 'Wellington Arch, Hyde Park'),\n",
        "            Bike_Station(env, num_dock = 1000, initial_bike = 500, station_name = 'Other')]\n",
        "    "
      ],
      "metadata": {
        "id": "VjGm8atrNaw8"
      },
      "execution_count": null,
      "outputs": []
    },
    {
      "cell_type": "code",
      "source": [
        "# Generate users\n",
        "for station_idx in range(len(stations)):\n",
        "    # Total period of 16 hours\n",
        "    for period in range(16):\n",
        "        env.process(user_gen(env, \n",
        "                             startTime = 60*period, \n",
        "                             endTime = 60*(period+1), \n",
        "                             arrivalRate = arrival_rate[station_idx][period], \n",
        "                             startStation_idx = station_idx))"
      ],
      "metadata": {
        "id": "JMWvrGbpNaw8"
      },
      "execution_count": null,
      "outputs": []
    },
    {
      "cell_type": "code",
      "source": [
        "# Implement one rebalancing starts at 10 and the sequence of visiting is 1, 2, 3 (we don't put 0 as \n",
        "# that's the grouping of all the stations out of this scope).\n",
        "rebalancing_1 = Rebalance_Van(env, capacity = 30, initial_bike = 30, startTime = 60, route = [1,4,7,2,3,0,5,6])\n",
        "rebalancing_2 = Rebalance_Van(env, capacity = 30, initial_bike = 20, startTime = 180, route = [1,4,7,2,3,0,5,6])"
      ],
      "metadata": {
        "id": "d0c5TykqNaw8"
      },
      "execution_count": null,
      "outputs": []
    },
    {
      "cell_type": "code",
      "source": [
        "# Record data for visulization (16*60)\n",
        "recorded = dataGen(env, startTime = 0, endTime = 1020)\n",
        "\n",
        "# Run the simulation\n",
        "env.run()\n",
        "\n",
        "# Print the dissatisfaction of each station (you might need to run many simulations and calcluate the mean)\n",
        "for station in stations:\n",
        "    print(f'Num of dissatisfaction at station {station.station_name} is {station.user_dissatisfaction}')"
      ],
      "metadata": {
        "id": "n17kl2x2Naw8"
      },
      "execution_count": null,
      "outputs": []
    },
    {
      "cell_type": "code",
      "source": [
        "plt.figure(figsize=(10,5))\n",
        "for i in range(0, 8):\n",
        "    plt.plot(recorded.numBikes_list[i], label = stations[i].station_name)\n",
        "plt.legend()\n",
        "plt.title('Num of Bikes at each Station')\n",
        "plt.show()"
      ],
      "metadata": {
        "id": "L1WdgK_kNaw9"
      },
      "execution_count": null,
      "outputs": []
    },
    {
      "cell_type": "code",
      "source": [
        "plt.figure(figsize=(10,5))\n",
        "for i in range(0, 8):\n",
        "    plt.plot(recorded.dissatisfaction_list[i], label = stations[i].station_name)\n",
        "plt.title('Num of dissatisfaction records at each Station')\n",
        "plt.legend()\n",
        "plt.show()"
      ],
      "metadata": {
        "id": "f6GUMbZJNaw9"
      },
      "execution_count": null,
      "outputs": []
    },
    {
      "cell_type": "code",
      "source": [],
      "metadata": {
        "id": "-N8kN5r5bhf1"
      },
      "execution_count": null,
      "outputs": []
    },
    {
      "cell_type": "code",
      "source": [],
      "metadata": {
        "id": "EXoxSnN5bhia"
      },
      "execution_count": null,
      "outputs": []
    },
    {
      "cell_type": "code",
      "source": [],
      "metadata": {
        "id": "MVfmdoCEbhkf"
      },
      "execution_count": null,
      "outputs": []
    },
    {
      "cell_type": "code",
      "source": [],
      "metadata": {
        "id": "Ou170V8fbhpK"
      },
      "execution_count": null,
      "outputs": []
    },
    {
      "cell_type": "code",
      "source": [],
      "metadata": {
        "id": "5xr0ZIWkbhri"
      },
      "execution_count": null,
      "outputs": []
    }
  ]
}